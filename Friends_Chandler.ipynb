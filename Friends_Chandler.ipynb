{
 "cells": [
  {
   "cell_type": "code",
   "execution_count": 1,
   "metadata": {},
   "outputs": [
    {
     "name": "stdout",
     "output_type": "stream",
     "text": [
      "Requirement already satisfied: requests in ./opt/anaconda3/lib/python3.7/site-packages (2.22.0)\n",
      "Requirement already satisfied: chardet<3.1.0,>=3.0.2 in ./opt/anaconda3/lib/python3.7/site-packages (from requests) (3.0.4)\n",
      "Requirement already satisfied: certifi>=2017.4.17 in ./opt/anaconda3/lib/python3.7/site-packages (from requests) (2019.9.11)\n",
      "Requirement already satisfied: urllib3!=1.25.0,!=1.25.1,<1.26,>=1.21.1 in ./opt/anaconda3/lib/python3.7/site-packages (from requests) (1.25.11)\n",
      "Requirement already satisfied: idna<2.9,>=2.5 in ./opt/anaconda3/lib/python3.7/site-packages (from requests) (2.8)\n",
      "\u001b[33mWARNING: There was an error checking the latest version of pip.\u001b[0m\u001b[33m\n",
      "\u001b[0mNote: you may need to restart the kernel to use updated packages.\n"
     ]
    }
   ],
   "source": [
    "pip install requests\n"
   ]
  },
  {
   "cell_type": "code",
   "execution_count": 1,
   "metadata": {},
   "outputs": [
    {
     "name": "stdout",
     "output_type": "stream",
     "text": [
      "Requirement already satisfied: beautifulsoup4 in ./opt/anaconda3/lib/python3.7/site-packages (4.8.0)\n",
      "Requirement already satisfied: soupsieve>=1.2 in ./opt/anaconda3/lib/python3.7/site-packages (from beautifulsoup4) (1.9.3)\n",
      "\u001b[33mWARNING: There was an error checking the latest version of pip.\u001b[0m\u001b[33m\n",
      "\u001b[0mNote: you may need to restart the kernel to use updated packages.\n"
     ]
    }
   ],
   "source": [
    "pip install beautifulsoup4"
   ]
  },
  {
   "cell_type": "code",
   "execution_count": 2,
   "metadata": {},
   "outputs": [
    {
     "name": "stdout",
     "output_type": "stream",
     "text": [
      "Requirement already satisfied: lxml in ./opt/anaconda3/lib/python3.7/site-packages (4.6.3)\n",
      "\u001b[33mWARNING: There was an error checking the latest version of pip.\u001b[0m\u001b[33m\n",
      "\u001b[0mNote: you may need to restart the kernel to use updated packages.\n"
     ]
    }
   ],
   "source": [
    "pip install lxml"
   ]
  },
  {
   "cell_type": "code",
   "execution_count": 8,
   "metadata": {},
   "outputs": [
    {
     "name": "stdout",
     "output_type": "stream",
     "text": [
      "Requirement already satisfied: pyopenssl in ./opt/anaconda3/lib/python3.7/site-packages (19.0.0)\n",
      "Collecting pyopenssl\n",
      "  Downloading pyOpenSSL-24.0.0-py3-none-any.whl (58 kB)\n",
      "\u001b[2K     \u001b[90m━━━━━━━━━━━━━━━━━━━━━━━━━━━━━━━━━━━━━━━\u001b[0m \u001b[32m58.6/58.6 kB\u001b[0m \u001b[31m968.1 kB/s\u001b[0m eta \u001b[36m0:00:00\u001b[0m \u001b[36m0:00:01\u001b[0m\n",
      "\u001b[?25hCollecting cryptography<43,>=41.0.5\n",
      "  Downloading cryptography-42.0.3-cp37-abi3-macosx_10_12_x86_64.whl (3.1 MB)\n",
      "\u001b[2K     \u001b[90m━━━━━━━━━━━━━━━━━━━━━━━━━━━━━━━━━━━━━━━━\u001b[0m \u001b[32m3.1/3.1 MB\u001b[0m \u001b[31m15.2 MB/s\u001b[0m eta \u001b[36m0:00:00\u001b[0m00:01\u001b[0m00:01\u001b[0m\n",
      "\u001b[?25hRequirement already satisfied: cffi>=1.12 in ./opt/anaconda3/lib/python3.7/site-packages (from cryptography<43,>=41.0.5->pyopenssl) (1.12.3)\n",
      "Requirement already satisfied: pycparser in ./opt/anaconda3/lib/python3.7/site-packages (from cffi>=1.12->cryptography<43,>=41.0.5->pyopenssl) (2.19)\n",
      "Installing collected packages: cryptography, pyopenssl\n",
      "  Attempting uninstall: cryptography\n",
      "    Found existing installation: cryptography 37.0.2\n",
      "    Uninstalling cryptography-37.0.2:\n",
      "      Successfully uninstalled cryptography-37.0.2\n",
      "  Attempting uninstall: pyopenssl\n",
      "    Found existing installation: pyOpenSSL 19.0.0\n",
      "    Uninstalling pyOpenSSL-19.0.0:\n",
      "      Successfully uninstalled pyOpenSSL-19.0.0\n",
      "Successfully installed cryptography-42.0.3 pyopenssl-24.0.0\n",
      "\u001b[33mWARNING: There was an error checking the latest version of pip.\u001b[0m\u001b[33m\n",
      "\u001b[0mNote: you may need to restart the kernel to use updated packages.\n"
     ]
    }
   ],
   "source": [
    "pip install --upgrade pyopenssl"
   ]
  },
  {
   "cell_type": "code",
   "execution_count": 9,
   "metadata": {},
   "outputs": [],
   "source": [
    "import requests"
   ]
  },
  {
   "cell_type": "code",
   "execution_count": 10,
   "metadata": {},
   "outputs": [],
   "source": [
    "from bs4 import BeautifulSoup"
   ]
  },
  {
   "cell_type": "code",
   "execution_count": 148,
   "metadata": {},
   "outputs": [],
   "source": [
    "url = 'https://friends.fandom.com/wiki/Chandler_Bing'"
   ]
  },
  {
   "cell_type": "code",
   "execution_count": 149,
   "metadata": {},
   "outputs": [],
   "source": [
    "response = requests.get(url)"
   ]
  },
  {
   "cell_type": "code",
   "execution_count": 150,
   "metadata": {},
   "outputs": [
    {
     "name": "stdout",
     "output_type": "stream",
     "text": [
      "\n",
      "Character\n",
      "Chandler Bing\n",
      "\n",
      "\n",
      "\n",
      "\n",
      "\n",
      "\n",
      "Name\n",
      "Chandler Muriel Bing\n",
      "\n",
      "\n",
      "Nicknames\n",
      "Ringo (by Monica in \"The One With The Fake Party\")Mr. Big (by Monica)Sir-Limps-a-Lot (in college, created by Ross)Roland Chang (fake ID in \"The One With All The Thanksgivings\")Shaw-La-La (by Doug)Bing-a-Ling (by Janice)Miss Chanandler BongBing (by Doug)Toby (by Bob)'The Funny One'Skidmark (by Julie Graff in \"The One With The Nap Partners\")The DropperThe King of Bad ThanksgivingsChan-Chan Man (by Joey)DuckChanny (by Joey)Channy Fanny (by Frank Buffay Jr. in \"The One Hundredth\")Mondler (by Ross in \"The One Where Phoebe Runs\")Chauncey (by Jack Geller and Ross in \"The One With Phoebe's Cookies\")ClintGeneMark JohnsonJohn MarksonSweetie, Honey (by Monica)Mr. Sensitivity (by Monica in \"The One With Phoebe's Birthday Dinner\")The Boy Who Hates Thanksgiving (by Judy Geller)ChucklesBob (by Jade)Dennis (by woman at the 2 parties)Smokey Joe (by Joey on the ski trip)Little Baby Girl Chandler (By Coach Rubin)Dude (by Joey Tribbiani)\n",
      "\n",
      "\n",
      "Marriages\n",
      "1 Monica Geller (wife)\n",
      "\n",
      "\n",
      "Aliases\n",
      "Miss Chanandler BongThe weird guy\n",
      "\n",
      "\n",
      "Gender\n",
      "Male\n",
      "\n",
      "\n",
      "Date of birth\n",
      "1968, see section Age\n",
      "\n",
      "\n",
      "Occupation\n",
      "Vice President - IT Procurement (prev: IT Procurement Manager) (S1)-(S9)Junior Advertising Copywriter (S9)-(S10)\n",
      "\n",
      "\n",
      "Education\n",
      "Columbia University (formerly/graduated in finances?)Unnamed high school (formerly/graduated)\n",
      "\n",
      "\n",
      "Relatives\n",
      "Biological:Charles Bing (father)Nora Tyler Bing (mother)Albert (cousin)Glen (cousin)Adoptive:Jack Bing (son, adopted with Monica E. Geller)Erica Bing (daughter, adopted with Monica E. Geller)Marital: Monica Geller (wife and mother of his children)Ross Geller (brother-in-law)Jack Geller (father-in-law)Judy Geller (mother-in-law)Ben Geller (nephew/godson)Emma Geller-Greene (niece/goddaughter)Cassie (cousin-in-law) Cousin Frannie (cousin-in-law)Aunt Lillian (aunt-in-law)Althea (grandmother-in-law)Althea's husband (grandfather-in-law)Aunt Liddy (aunt-in-law)Aunt Sylvia (aunt-in-law)Aunt Phylis (aunt-in-law)Uncle Freddie (uncle-in-law)Aunt Cheryl (aunt-in-law)Aunt Lisa (aunt-in-law)Aunt Marilyn (aunt-in-law)Aunt Millie (aunt-in-law)Uncle Dan (uncle-in-law)Uncle Murray (uncle-in-law)Possible, unclear:Aunt Iris (aunt-in-law)\n",
      "\n",
      "\n",
      "Relationships\n",
      "Monica Geller (wife and mother of his children) Kathy (ex-girlfriend) Janice Litman Goralnik (ex-girlfriend, 1994, 1996, 1998)Aurora (ex-girlfriend)Nina Bookbinder (ex-girlfriend) Julie Graff (ex-girlfriend from camp when they were teenagers)Marjorie (ex-girlfriend)Mary Angela (fling) Ginger (ex-girlfriend)Joanna (ex-girlfriend)Phoebe Buffay (kissed)Rachel Greene (kissed)Joey Tribbiani (kissed) Susie Moss (ex-girlfriend) Missy Goldberg (make-out in college)\n",
      "\n",
      "\n",
      "Information\n",
      "\n",
      "First appearance\n",
      "\"The Pilot\"\n",
      "\n",
      "\n",
      "Last appearance\n",
      "\"The Last One, Part 2\"\n",
      "\n",
      "\n",
      "Number of episodes\n",
      "236 (all of them)\n",
      "\n",
      "\n",
      "Portrayed by\n",
      "Matthew PerryJoshua Preston (young)\n",
      "\n",
      "\n",
      "Seasons\n",
      "S1 S2 S3 S4 S5 S6 S7 S8 S9 S10\n",
      "\n",
      "\n",
      "\n",
      "\n",
      "Unnamed high school (formerly/graduated)\n",
      "—Chandler after being asked for advice.\n",
      "Chandler Muriel Bing is one of the main characters on the popular sitcom Friends (1994–2004), portrayed by the late Matthew Perry. Chandler has a very good sense of humor, and is notoriously sarcastic, an attribute he calls a defense mechanism he developed due to his parents' divorcing when he was a child. His best friends are Joey Tribbiani and Ross Geller. Chandler's main catchphrase is starting sentences with \"Could that BE any more...\"\n",
      "\n",
      "Chandler Muriel Bing is the son of erotic novelist Nora Tyler Bing and cross-dressing burlesque star Charles \"Helena Handbasket\" Bing, who performs his all-male burlesque show, 'Viva Las Gay-gas' in Las Vegas, where they live. At the age of 9, his parents announced their divorce leaving him distraught and alarmed. Subsequently, he resorted to what he calls \"a carefully regimented program\" of denial, sarcasm, wetting the bed and smoking. He has claimed to have seen sexually provocative scenes since the age of 7 due to his parents' lack of awareness. Despite his forgiving nature he still holds a grudge against both of his parents for being absent-minded and not providing emotional support and tends to be bitter whenever talking about them.\n",
      "\n",
      "He went to an all-boys high school and the same college as Ross Geller, with whom he became best friends. Through Ross, he met Monica Geller and Rachel Greene. \n",
      "\n",
      "When trying to get a roommate, Joey Tribbiani applied, but Chandler passed him over. When his first choice was goaded into leaving by Chandler's odd neighbor, he was forced to accept Joey, but they soon became best friends.\n",
      "\n",
      "Throughout most of the series, Chandler is an executive specialized in statistical analysis and data reconfiguration, occupying high-grade positions such as Processing Manager and head of the office. Though he has a high pay, he frequently complains about his dislike of his job, even deciding to quit in Season 9, finding employment as a Junior Copywriter in an advertising agency; this is a job he greatly enjoys, demonstrated by his willingness to take an internship opportunity, even though it means having to start from the very beginning of a new career.\n",
      "\n",
      "Chandler has been Ross Geller's best friend since college. He met Ross' sister Monica Geller and her friend Rachel Greene while celebrating Thanksgiving 1987 at the Geller family residence during his first year at college. He later moved to apartment #19 in New York City, across the hall from Monica and later Rachel. At some point during this time, Phoebe Buffay moved in with Monica and Kip became Chandler's roommate. Kip and Monica dated for a while, but later broke up, and could no longer stand to be in the same room as each other. Chandler's next roommate, Joey Tribbiani moved in, and completed the group of friends. Chandler lived with Joey until season 6, then he moved in with Monica, whom he had been dating for a year.\n",
      "\n",
      "Chandler is the wealthiest friend because he has been saving money from his job for the last six years. He gets mad when Monica expects him to spend his savings on her dream wedding, convincing her that they should save the money for their life after the wedding, which Monica eventually agrees to.\n",
      "\n",
      "Because of the Thursday night line-up that led with Friends, Thanksgiving was always an important episode for the series in each season. Chandler's most vivid memory of Thanksgiving is when he was nine and his parents told him they were getting divorced so his father could run off with the house-boy. Chandler refuses to celebrate Thanksgiving in the traditional way. This includes a ban on all Thanksgiving food, as he insists that it's not as good after seeing a Thanksgiving dinner in reverse. His Thanksgiving dinner consists of tomato soup, grilled cheese sandwiches, and a family-size bag of Funyuns. Several Thanksgiving episodes include retelling this backstory of Chandler's home life and his hatred of the holiday. Joey goes so far as to say, \"It wouldn't be Thanksgiving without Chandler bumming us out.\" Later on, perhaps thanks to his more positive view of family events due to his relationship with Monica, he accepts Thanksgiving. He still refuses to eat the actual food, even when dining with his friends, eating chicken instead of turkey and other things of that nature.\n",
      "\n",
      "Chandler visits the Geller household for Thanksgiving again in 1988, slightly dismissed by Judy, Ross and Monica's mother, because he does not eat any Thanksgiving food. While attempting to get back at Chandler for calling her fat the previous year, Monica accidentally dropped a knife through Chandler's wicker shoes. Chandler lost most of the pinkie toe on his right foot because it couldn't be replaced, due to the fact that Monica accidentally brought a baby carrot to the hospital instead of the toe. This incident led Ross to call Chandler Sir Limps-a-Lot. Chandler is not aware that it was Monica's revenge-gone-bad that caused him to lose his toe until she tells him during Thanksgiving dinner (\"The One With All The Thanksgivings\").\n",
      "\n",
      "Monica reveals that Chandler has a third nipple (which Chandler describes as a \"nubbin\") after she learns that Chandler told Phoebe about her having sex with Fun Bobby on the balcony. The friends are amused at the secret, and they tease Chandler about it. Finally, Chandler has the nubbin surgically removed after Ginger, a would-be lover, is repulsed by it.\n",
      "\n",
      "Chandler was a bed-wetter as a child. While supporting Rachel during her parents' divorce, he jokingly recommends the, \"carefully regimented program of denial ... and, and wetting the bed,\" which he himself relied on as a child (\"The One With The Two Parties\").\n",
      "\n",
      "Throughout the run of the show, Chandler comments how much he dislikes physical exercise. However, he is often seen enjoying Knicks games with Joey and Ross. He also enjoys watching ice hockey, football, and baseball. He even enjoys racquetball. It's often alluded that Chandler doesn't really enjoy these things; he just wants to seem like one of the guys. In Season 10, it is revealed that he once tried out for his high school figure-skating team, much to the amusement of Phoebe and Ross. On Thanksgiving, he enters the room saying he wants to watch football. Phoebe responds, \"It's okay. Ross and Joey aren't here. You can watch the parade if you want.\" Chandler demonstrates excellent tennis skills and ping pong skills, the latter he hides from Monica due to her childish competitiveness.\n",
      "\n",
      "Although it became less noticeable during the course of the show, Chandler has the habit of accenting the wrong words in his sentences. This leads to his friends and colleagues imitating his speech pattern.\n",
      "\n",
      "Chandler in season 1\n",
      "Chandler is introduced as a sarcastic person with a heightened fear of commitment. He lives with his roommate Joey next to Monica's apartment and constantly makes fun of Joey. He finds himself stumbling across the same annoying woman Janice who he has to break up with thrice in a span of one year. He used to be addicted to cigarettes and the addiction relapses once again while he's helping Joey to practice for an audition for the role of a person who has to smoke. He experiences sadness when Monica breaks up with Alan who helped him quit and almost relapses. He gets annoyed every time Ross brings up his ex-wife Carol along with Joey. He enjoys watching the Knicks, seeing Baywatch on TV and playing Foosball with Joey.\n",
      "\n",
      "He experiences great boredom in his place of work and once, when he gets an offer of a promotion, he quits his job to pursue his dream. After taking aptitude tests and going to career counselor he finds out he's best suited for a corporate job. This crushes him since he was looking forward to doing something unique and interesting.\n",
      "\n",
      "He gets confused after finding out that his co-workers think he's gay and consults the Friends, who say that they thought that too when they met him for the first time. Later, he realizes it's because of the way he talks and how he feels offended when people say a man is out of his league.\n",
      "\n",
      "He repeatedly reassures Ross that he's going to be a good father, and tells him to stop pursuing Rachel continuously, finally convincing him to forget about her before Ross leaves for a work trip to China.\n",
      "\n",
      "At the end of Season 1, he accidentally lets slip to Rachel that Ross is in love with her, surprising her.\n",
      "\n",
      "Chandler in season 2\n",
      "Chandler feels incredibly guilty about telling Rachel how Ross was into her and at the same time telling Ross to find someone else, as Rachel realizes she has feelings for Ross and is devastated when Ross comes back to New York from his trip to China with Julie. He tries to tell Ross to reconsider going after Rachel but fails when Ross seems to be very content with Julie. When Ross finally finds out Rachel has feelings for him, he suggests Ross to make a pros and cons list about Rachel and Julie to help him decide. Ross ultimately picks Rachel but as she is visiting the apartment, the list automatically starts printing out of nowhere and breaks Rachel's heart. Chandler blames himself for the whole fiasco but is overjoyed when Ross and Rachel finally hook up.\n",
      "\n",
      "Once, while babysitting Ross' son Ben, Chandler and Joey get distracted while flirting with some women on a bus and leave Ben on the vehicle. They go all over the city looking for Ben and finally find him at the Human Services office. Ross is infuriated with the pair.\n",
      "\n",
      "Chandler is extremely furious when Monica tells the rest of the group about his third nipple. He once accepts Monica's help to lose weight but gets annoyed when she wakes him up on a Sunday and playfully calls him \"fat boy\".\n",
      "\n",
      "He and Joey are increasingly impressed by Monica's boyfriend Richard and spend a lot of time with him. At the end of Season 2, he meets a woman online and gradually falls in love with her. They decide to meet up at Central Perk and it turns out to be Janice.\n",
      "\n",
      "Season 3 starts with Chandler being in a passionate relationship with Janice. This is the only time where he doesn't intend to break up with her, and is genuinely in love with her and can overlook her seemingly annoying voice and laugh. When Joey finds Janice annoying as ever and expresses feelings of hatred towards her, Chandler tells him to suck it up and like Janice. Initially in his rekindled relationship with her, he experiences his trademark commitment-phobia and freaks her out by proposing they move in together. He later amends this by reassuring her that it's just his instinctive nature to freak out about commitment.\n",
      "\n",
      "After learning Janice has kissed her ex-husband twice since they have been in a relationship, and subsequently the fact that she still loves him as well as Chandler, he reluctantly lets her go as they have a shot at being a family, and he reflects on how he felt about the man who \"broke his family up\", as he saw it, when he was a kid.\n",
      "\n",
      "After the breakup he has a tough time getting over her but feels a little better after playing football with his friends on Thanksgiving and being chosen over Joey by a beautiful Dutch woman. Later on, his sadness resurfaces and he ends up kissing one of Joey's sisters, Mary-Angela, at a party. He tells Joey (to protect himself) that he might be in love with Mary-Angela and it wasn't just him messing around. When Mary-Angela gets excited, he goes over to the Tribbiani family home to gently break up with her, but it turns out Joey is there too, as well as all of the other Tribbiani sisters. Chandler genuinely doesn't know which one Mary-Angela is, and, when one of the sisters makes a pass at him in the hall, he assumes he has found her... but it turns out to be another sister, Mary-Therese. An altercation occurs, and when Joey realizes the truth he is pretty mad at Chandler. Chandler apologizes profusely, telling him he will never do anything of the sort again.\n",
      "\n",
      "When Ross joins Chandler and Joey in a bar just after Ross has gone on a break from Rachel, Chandler tells him to call Rachel so that he can work past whatever trouble they were having as a couple. Ross then hears Mark's voice in the background, gets the wrong impression and sleeps with the girl from the Xerox place, Chloe. After learning he slept with Chloe, Chandler tells Ross to not tell Rachel about it and also erase any evidence of it happening. However, word gets back to Rachel. Chandler, along with the other three friends, are crushed when Ross and Rachel painfully break up.\n",
      "\n",
      "In the aftermath of the break up, Chandler goes back to smoking but is helped to quit by Rachel. It appears the resemblance of Ross and Rachel breaking up and his parent's divorce is too similar that he goes back to using the coping mechanisms he used as a child. After quitting smoking, he helps Ross get over Rachel and not interrupt a date she's having.\n",
      "\n",
      "Chandler has a brief fling with Rachel's boss Joanna who doesn't feel attracted to and has a tough time breaking up because of his fear of confrontation.\n",
      "\n",
      "By the time the season ends, Chandler gets on Monica's case as to why she'd never go out with him hypothetically.\n",
      "\n",
      "Chandler handcuffed to Joanna's desk in early season 4\n",
      "This starts with a perplexed Chandler questioning why Monica would never hypothetically date him. At the beach, Monica gets stung by a jellyfish and Joey remembers that the pain can be mediated if someone pees on it. Monica is unable to bend that way and Joey gets performance anxiety, leaving a reluctant Chandler to do the deed. Chandler, Joey and Monica agree to never let this matter slip out but after the other friends keep asking they confess. Later, Chandler runs into Joanna (Rachel's boss) and has another fling with her. After trying to break up with her on Rachel's command, he emerges not-so-victorious.\n",
      "\n",
      "Chandler finds himself feeling attracted to Joey's girlfriend Kathy and decides to avoid her because of this. However, Kathy later returns the feelings and the two share a kiss. Extremely filled with guilt, Chandler tells Joey the truth and Joey's extremely livid at him and refuses to talk to him. To make it up to him, Chandler resolves to stay in a box for six hours and think deeply about his actions on Thanksgiving. While he's in the box, Kathy comes over to tell him that she'd be leaving for Chicago for a while and is upset that their relationship never took place. Joey finally forgives Chandler and tells him to go after Kathy and their relationship shows great potential.\n",
      "\n",
      "\"The One With The Embryos\" provide us with great details about his life including:\n",
      "\n",
      "(Joey and him win the girls' apartment after winning a quiz match and proceed to stay there until Monica and Rachel agree to kiss for a minute to get their apartment back in \"The One With All The Haste\") . After seeing Kathy share a sex scene with someone in a play, Chandler shows trust problems which Kathy is shocked to learn of. He later goes to amend this and apologize but it turns out that she did in fact sleep with Nick (the guy she was simulating sex with in the play) and is extremely devastated. With the help of Rachel, Phoebe and Monica, he successfully gets over her.\n",
      "\n",
      "As the season comes to a close, Chandler becomes Ross' best man along with Joey as he is getting married to Emily. He initially thinks it's an impulsive decision but comes to respect it. After feeling homesick in London at the wedding he decides to give a toast at the wedding but is surprised when no one finds it funny and misses home even more. He comforts Monica when a drunken guy accidentally calls her Ross' mother and her mom keeps implying she will never get married. Later the same night, Monica appears at Chandler's hotel room (initially looking forward to a night of meaningless sex with Joey) but throws herself at him when he calls her the \"the most beautiful woman in most rooms\". After they wake up the next day on Ross' wedding day, it's rather awkward but they decide to meet up again.\n",
      "\n",
      "Chandler and Monica decide to hook up only in London and even blame London for the romantic atmosphere that caused those events to transpire. However upon reaching New York, both find themselves attracted to each other and decide to date in secret. In \"The One With All The Thanksgivings\", we get to know the actual story of his parents' divorce and the reason for his hatred for Thanksgiving. We also learn that in 1987 when he visited the Geller's household with Ross to celebrate Thanksgiving, he called Monica fat. He apologizes many times and appears pretty remorseful but upon realizing that it was Monica who accidentally sawed his toe, he storms out of the room in anger and asks to be left alone. Monica later comes across to his apartment with a turkey on her head and does an embarrassing dance. He laughingly forgives her but blurts out \"I love you\". He later retracts the statement.\n",
      "\n",
      "Pretty keen on hiding his relationship with Monica, Joey gets into many tough situations for his sake. The reason behind him wanting to keep it a secret and his commitment fear seem to be closely linked as both of them fear that the rest of the group will talk about marriage and children freaking him out. In \"The One Where Everybody Finds Out\" he tries to seduce Phoebe to throw her off the clues but after things escalate quickly and they share an awkward kiss, he officially claims his love for Monica who also does the same.\n",
      "\n",
      "Later on he does get his commitment fear and even proposes marriage but is reassured by Monica that she doesn't want to settle down right away and would help him out with his fear of commitment. Afterwards when Phoebe hits it off with her cop boyfriend Gary, Monica gets insecure that she has passed the first phase of her relationship with Chandler when they were all over each other all the time: he comforts her and tells her that the newer phase they have is much more interesting and real showcasing his maturity In accepting commitment. In \"The One With The Ride-Along\", when a car backfires (which sounds like a gunshot) and it looks like Joey is defending Ross' life, Chandler feels offended about Joey choosing him over Ross but he is much happier (and perplexed) when he finds out that Joey was actually trying to protect his meatball sub. In \"The One With The Ball\", when Phoebe learns Gary is going to ask her to move in with him and she feels it's too early, she asks Chandler to scare Gary with his trademark commitment fear. Here we also find out that Chandler has a reputation of dropping things specially while he's being asked to catch something.\n",
      "\n",
      "As this season comes to a close, Chandler gets into a fight with Joey who gets a lead in a very sketchy movie that doesn't guarantee him any money. Joey believes Chandler is not believing in his career and throws him out while they're going on the road trip to Vegas. Joey later forgives Chandler and asks him not to come because he doesn't want to prove Chandler right. Chandler and Monica regardless plan to go to Las Vegas to celebrate their one-year anniversary as a couple when Phoebe tags along and Ross and Rachel are scheduled to reach the next day. After learning that Monica had lunch with Richard earlier and wasn't planning on telling him about it, he gets upset but later Monica assures him that she won't see Richard again reuniting them. While the couple gets gambling fever, Chandler tells Monica that they could get married if she rolls a hard eight (roll four with two dices) she promptly agrees but they reconsider when they see Ross and Rachel run out of the wedding chapel in The One In Vegas.\n",
      "\n",
      "Chandler feels unsure about marrying Monica who also feels the same way. He proposes (thinking that sharing his true feelings might hurt her) that if they see a sign they could get married but after seeing too many signs he comes clean about his feelings and feels better after learning that she feels the same way too. He later asks her if they should live together which she agrees to pretty enthusiastically. (\"The One After Vegas\"). He has a hard time telling Joey about this who ultimately is pretty saddened by his roommate's departure and even calls it the end of an era. He and Monica do fight while discussing the layout of the apartment when Chandler moves in but this is resolved by Ross. After moving in, Chandler decides to clean up the apartment as a romantic gesture but forgets the layout of things and gets scared thinking about how Monica would react to such an altercation to her organization but is reassured by Monica who thinks it was sweet and thoughtful regardless of how it altered her living room.\n",
      "\n",
      "Chandler takes care of Monica when she's sick and asks Rachel and Phoebe to not look for the Christmas presents Monica is planning on giving them. In \"The One With The Joke\", when Monica's upset about why Phoebe would hypothetically date Rachel instead of her because she's \"high maintenance\", he reassures her saying that her being \"high maintenance\" shows her passion. He questions Ross' relationship with his student Elizabeth many times and makes fun of it with the rest of the friends.\n",
      "\n",
      "As season 6 ends, Chandler plans on proposing to Monica. He takes Phoebe's help in picking out the engagement ring since she's the only one who knows because of walking in on Chandler while he was checking out ring brochures. He plans to propose to her in her favorite restaurant and is pretty annoyed when Richard coincidentally shows up with a date at the same place making it seemingly impossible. To make the proposal look out of the blue, he decides to throw Monica off by showing disgust at the whole concept of marriage (which he's pretty good at because of his commitment phobia) but this idea fails when his acting becomes too convincing and Richard shows up at her restaurant's kitchen to profess his love for her. Joey however tells Monica about Chandler's plan and she sets up the optimal set-up of a proposal in her apartment. By the end of this season, Chandler and Monica are officially engaged.\n",
      "\n",
      "Chandler tells Monica about his savings when she finds out that her parents used her wedding funds for a beach house. Earlier Monica thinks of using up the entire money on the wedding but Chandler finally puts his foot down and refuses. Later he tells her that if she really wants to spend all the money in the wedding, she can but when she finds out what he was planning on doing with the money and their future, she happily agrees to have a much simpler marriage. He profoundly embarrasses himself in front of Ross and Monica's father and gets new glasses as the season begins.\n",
      "\n",
      "In the One With Rachel's Assistant, we learn that Chandler:\n",
      "\n",
      "He tries his best to step aside as Monica plans the wedding. He gets upset after learning that Monica wanted to initially sleep with Joey the night they hooked up in London but is reassured by both Monica and Joey and forgets about it. He has a tough time writing the wedding vows so he steals Monica's vows and switches the name. During the rehearsal dinner for the wedding, Chandler freaks out about not being a good-enough husband and having a failed marriage so runs away to cool off in his office. Helped by Ross, he makes it to the wedding and everything works out in the end.\n",
      "\n",
      "Chandler desperately looks for the disposable wedding cameras to lighten Monica's mood since she's upset she's never going to be a bride again (this initially scares him but he realizes she would probably miss the prospect of dressing up in white and being showered with love and attention part of being a bride). He spends Thanksgiving teaching Phoebe a technique he uses to avoid helping out in the kitchen of pretending to watch a football match and occasionally screaming at the TV to look occupied. In \"The One With Rachel's Date\", we find out that his middle name is actually Muriel and that he doesn't even correct a co-worker who calls him Toby to avoid social confrontation. He dresses up as a pink bunny on Halloween and regrets it- to make Ross' romantic interest strong, he let's Ross win an arm wrestling match. He tries his best to support Rachel throughout her pregnancy.\n",
      "\n",
      "He consoles Joey when he's having feelings for Rachel and also helps ease the awkward tension that takes place after Joey tells Rachel about his feelings and she doesn't reciprocate it. He also finds a newfound respect for baths and thus becomes more comfortable with his masculinity.\n",
      "\n",
      "He later helps Joey with his interview along with the other friends so that he doesn't do anything stupid. He also shows his buried competitive instincts while playing Bamboozled with Joey and Ross (he tries to hide his competitive nature when around Monica so that he doesn't provoke her childish love of winning). He feels he's ready to have children with Monica while Rachel has her baby during the season finale.\n",
      "\n",
      "He continues to try for a baby with Monica. When he falls asleep during an important business meeting, he apparently agrees to be the president of his company in Tulsa, Oklahoma. When Monica gets a job offer at Javu, an upscale restaurant in Manhattan, he asks her to stay in New York which puts a little strain in his relationship with her. Joey appears even more upset at Chandler's departure though. When everyone in his office at Tulsa openly smokes, he is compelled to as well but quits after Monica shows disgust at the habit of smoking. When Monica says she's found the funniest man she's ever met, he feels insecure. However, he feels perfectly fine about Rachel hiring a male nanny showing his comfort with his masculinity.\n",
      "\n",
      "After learning that Ross and Rachel think that Chandler wouldn't be able to discipline his children in \"The One With Rachel's Other Sister\", he shows off his potential to discipline when Rachel and her sister Amy get into a physical fight. In The One With Christmas in Tulsa, he finally realizes his lack of interest in his job and the strain this is putting on in his marriage and consequentially quits his job to find something he's more interested in. Despite having low self esteem, he's against borrowing money from others. He decides to take up a job in advertising and becomes the junior copywriter from an unpaid intern in a matter of months due to his maturity, talent and potential in advertising.\n",
      "\n",
      "He's extremely devastated upon realizing that he and Monica cannot conceive and along with her, decides to take up adoption. In Barbados, he tells David the reason behind Phoebe and Mike's break-up, indirectly giving him the plan to propose marriage. Monica later takes care of this by calling Mike and telling him to prove his love which he does. He shows great ping pong skills which he tries to hide from Monica due to her extreme competitiveness.\n",
      "\n",
      "Chandler and Monica make their peace with adoption. Chandler supports Phoebe and Mike's relationship and is very confused by the whole Ross, Charlie, Joey and Rachel mix-up and decides to eavesdrop on it in The One After Joey Kisses Rachel. However, he is more disturbed by the cornrows hairstyle Monica decided to adopt. He mistakenly tells a child he's adopted when Monica and Chandler go to visit a couple to gain more knowledge on adoption, he later on even tells Frank. Jr's children that Phoebe actually carried them and gave birth to them on the same day, blaming this on people for not informing him of both these situations beforehand .\n",
      "\n",
      "Chandler gets Joey to write a letter to the adoption agency and is very skeptical about his writing skills, but is very amused when the adoption agency thought that Joey was a child and it was a very cute and sweet thing to do. When Erica is under the impression that Chandler and Monica are a doctor and a reverend respectively, he thinks it's best to come clean about the fact that the adoption agency probably had a mix-up. Monica fears that Erica would not be willing to give her baby to them if she realized that they weren't a doctor and a reverend but after they come clean, Erica is more upset by the fact that they lied to her. It's interesting to note that this time, Chandler is the one who is keen on showing integrity and truthfulness since in earlier seasons, he tended to craft lies to get out of the simplest situations- this shows significant development. Chandler ends up winning Erica's trust by giving a heartwarming speech.\n",
      "\n",
      "Chandler comes clean about having broken a pact he held with Ross in college regarding the girls they could go out with but explains this to be because of the time when Ross kissed a girl on the pact and who Chandler had a major crush on during a college party. To spite him, Chandler also kissed Rachel at the same time not knowing that Ross and Rachel would kiss too (later it turns out that Ross actually kissed Monica which really disgusts him) (\"The One Where The Stripper Cries\" ) \n",
      "\n",
      "Chandler decides to get a new house in the suburbs with Monica to bring up the child which the rest of the friends, especially Joey, are not happy about. He was also upset when Rachel was going to go to Paris but decided to make his peace with it. Erica finally gives birth but as it turns out, she actually gave birth to twins; Chandler and Monica were only expecting one child. He initially freaks out and doubts their capability but after realizing its a boy and a girl, he is overjoyed and along with Monica names the girl Erica (after her biological mother) and the boy Jack (after Monica and Ross' father).\n",
      "\n",
      "Chandler utters the very last line in the whole show as the group decides to have the last cup of coffee together by sarcastically saying \"sure, where?\" when Rachel asks.\n",
      "\n",
      "Though Chandler never lets up by using sarcasm as a defense, he has a tendency to come off as needy and makes bad first impressions as said by Phoebe with his constant joke-making and brash demeanor. Despite this emotional immaturity, Chandler is the most financially secure of his friends.\n",
      "\n",
      "Chandler is brash, zany and estranged from both of his parents. He suffers from commitment issues, brought on by growing up in a broken home with no idea of what a stable marriage looks like, can be neurotic and extremely defensive with humor as his shield but his sense of humor is generally unsophisticated, to the point during an interview when his boss told him he'd have \"extra duties on his hand\" he had to stop himself from laughing. Chandler also associates everything that links to his parents' divorce in a negative light, specifically Thanksgiving where his parents reveal their separation over turkey where his father plans to run away with the pool boy. This also associates with his mistrust of people in adult relationships. Becoming extremely paranoid when his girlfriend, Kathy (who was an actress) shared a sex scene with her co-star prompting a big fight between the two. Ironically it was Chandler's own paranoia that drove Kathy to have an affair with the same person.\n",
      "\n",
      "His commitment issues are not only a running gag in the series but as well with his friends who use it as an excuse to mock him. In \"The One With The Lesbian Wedding\", when asked who of the group will get married last they all pointed at Chandler. This could either be a joke, a ribbing on his commitment-phobia or him being the least desirable of the group. However, he was the first friend to happily settle down as a married man. Even when he was a happily married man, Chandler still retained some of his paranoia when it was revealed that their surrogate mother was having twins, he instantly panicked and suggested keeping only one. However, when he discovered they were a male and a female, he was overjoyed.\n",
      "\n",
      "Chandler is relatively comfortable with complimenting looks of the same gender like Phoebe. However, he is quite humiliated by his effeminate nature and is a profound heterosexual whereas Phoebe has been hinted to be bisexual. It's revealed Joey is who he would go out with. Also, when Phoebe saw her \"perfect guy\" at Central Perk after reading tea leaves, Chandler remarks \"Oh my God, that guy was looking at you and he is so cute\" in a high-pitched voice. He also began acting extremely effeminately when he was listening to a cassette tape for women to stop him from smoking. Because of this, Chandler is normally dominated by his ballsy and forward spouse, Monica and rarely ever \"wins\" in a fight with her, however, Chandler does have bursts of confidence. When Monica wanted to use his nest egg to pay for their big wedding he firmly put his foot down, which greatly impressed Phoebe who normally points Chandler out for his effeminate nature, claiming \"Money, and a firm hand. Finally a Chandler I can get on board with.\"\n",
      "\n",
      "Chandler also shares a lot of traits with Mr. Heckles, Monica and Rachel's neighbor. They are both extremely picky with women (planning to break up with one simply because her head was too big), were voted class clown in high school, played the clarinet and Chandler even did his signature pound the ceiling with a broom when Monica and Rachel were making too much noise.\n",
      "\n",
      "Probably because of his entire childhood of being humiliated, Chandler would much prefer to follow through on an insane lie rather than admit to the truth and create an embarrassing situation or an actual confrontation. Lacking the nerve to break up with Janice after he rekindled their romance he tells her he is moving to Yemen and actually does when she only agreed to leave the airport after she saw his plane depart, causing him financial loss. This was further shown when he destroyed his own office when an enraged colleague (who had been calling Chandler 'Toby') got word that \"Chandler Bing\" stopped him from moving upward and he didn't want to admit that he mistook his name for Toby and never corrected him on it.\n",
      "\n",
      "Chandler started out as the one who had the most problems with commitment. He began his relationship with Monica as early as Season 5 (since Season 4's finale was actually a fling for both characters); moved on to the proposal in Season 6; married her in Season 7; and adopted twins Jack and Erica Bing in the last episode of Season 10. In \"The One With The Lesbian Wedding\", everyone thinks that Chandler will be last for them to get married. This ends up being quite ironic as he and Monica are the first to have a committed marriage that doesn't end in divorce, and none of the others have a long-term marriage again until Season 10 when Phoebe marries Mike Hannigan.\n",
      "\n",
      "The proposal\n",
      "Going by his behavior in the seasons prior to him becoming involved with Monica, it is possible that Chandler has been interested in her for years. At the end of Season 1 (\"The One With The Birth\") he suggest they get together and have a child if they're both still single at forty, in (\"The One With The Flashback\") he said Monica was one of his favorite people and the most beautiful woman he'd ever known in real life, and during the friends' beach vacation in season 3, he tries to convince Monica that he will make a good boyfriend. She, however, laughs at the idea and for the first four seasons and before the show started they are portrayed merely as close friends. They've seen to depend on each other a great deal as Monica helped him lose weight (Season 2), reassured him that he wouldn't die alone (\"The One Where Heckles Dies\"), comforted him about his crush on Kathy and gave him sex advice in Season 4. Chandler also apparently told her about his third nipple, and he was the only one who knew that it was her underwear on the telegraph pole outside the apartment. Chandler also comforts Monica when she's upset, like when she discovered that Phoebe moved out or when she was upset about not having a child or a boyfriend in Season 3.\n",
      "\n",
      "Things change for Chandler and Monica in London when they sleep together (season 4). Monica becomes depressed when her mother says that she'll never get married, and she is pushed over the edge when a drunken man mistakes her for Ross' mother. She gets drunk and decides to make herself feel better by sleeping with Joey, not expecting Chandler to open the door (\"The One With The Truth About London\"). When Chandler tries to cheer her up by telling her he thinks she was the most beautiful woman in the room at the rehearsal dinner - that she is, in fact, the most beautiful woman in most rooms, Monica throws herself at him and they end up spending the night together. The next day, initially things are quite awkward between them. When they meet up at the wedding they agree that sleeping together was a stupid thing to do, but that's not enough to keep them from agreeing to meet up again that night. They say that they will stop once they leave London, but that fails and they begin a relationship. Chandler refers to the night as the most romantic night of his life. It seems likely that Chandler already had strong romantic feelings for Monica by the time their first night together was over, and his mild interest in her, mentioned above, became a serious romantic connection due to the confirmation of Monica's feelings.\n",
      "\n",
      "They try to keep their relationship secret from their other friends, who eventually found out (\"The One Where Everybody Finds Out\"). The first to find out is Joey when he discovers through identical aspects of Monica and Chandler's 'work trips' in \"The One With The Kips\" that they were actually away together. Then Rachel overhears a telephone conversation between the two containing sexual innuendos. (Monica denies this when she is confronted by Rachel, insisting that she was referring to Chandler as \"Mr. Bigot\" and not, \"Mr. Big ...\", going on to describe him jokingly as a racist). Phoebe finds out about Monica and Chandler when she witnesses them having sex without closing the curtains as she stands in Ross' apartment across the street, and Ross is the last to find out, in the same way as Phoebe.\n",
      "\n",
      "After everyone finds out about their relationship Chandler's commitment issues resurface and he worries Monica expects him to get married and have children soon. This leads to a fight between them which he tries to fix by proposing. Monica points out how stupid he's being and says she doesn't want marriage and babies now and will help him through his relationship issues. (\"The One With The Girl Who Hits Joey\").\n",
      "\n",
      "While celebrating their anniversary in Vegas, Chandler and Monica get into a fight over her seeing her ex-boyfriend Richard and Chandler admits that he knows Richard is still the love of Monica's life, indicating he still feels insecure about their relationship. However, Monica reassures him Richard is no longer the love of her life and they make up, later stating that they've never loved anyone else as much as they love each other.\n",
      "\n",
      "In Vegas, Chandler and Monica feel that \"the signs\" are telling them to get married. Not ready to make such a commitment, they decide to live together instead.\n",
      "\n",
      "At the end of Season 6, Chandler plans to ask Monica to marry him but a series of misunderstandings lead Monica to think he never wants to get married and Richard to also propose to her. Chandler Madly confronts Richard saying that he blew his chance and Chandler wasn't going to blow his because he and Monica were meant for each other. Richard accepts defeat and Chandler returns home to find Monica has planned her own proposal. They ask to marry each other and get engaged. (\"The One With The Proposal, Part 2\")\n",
      "\n",
      "They eventually get married, and their wedding is officiated by Joey (season 7). Unable to conceive naturally, they decide to adopt a child. Expecting only one child, they watch in surprise as their adopted twins - Jack and Erica Bing are born.\n",
      "\n",
      "Monica often gets on Chandler's nerves because of her bossy, overly competitive, and neat-freak nature. However, he also states that he loves how passionate she is and feels good about calming her down when she's gets stressed. (\"The One With The Joke\")\n",
      "\n",
      "In an alternate reality of \"The One That Could Have Been\", where Monica is still fat, and Chandler doesn't show much interest in her. However, the two still become a couple after sleeping together when Monica's current boyfriend gets called out to work during dinner.\n",
      "\n",
      "Twins Jack and Erica appear in the series finale when biological mother Erica gives birth to two babies instead of the expected one. The birth of the twins is unexpected because when the doctor read the sonogram, he said, \"Both heartbeats sound healthy\", but Erica thought that the doctor meant her heart and the baby's. Jack is named after his adoptive grandfather, Jack Geller; and Erica is named after her biological mother. They are shown in apartment #20, with the rest of the group before leaving with Chandler and Monica to go live in their new home in Westchester.\n",
      "\n",
      "Ross and Chandler have been best friends since college when they were roommates. They made pacts involving the girls they weren't allowed to sleep with although Ross learns that Chandler broke this pact, and they were in a band together. Chandler also went to Ross' house for Thanksgiving. Ross and Chandler frequently go out to play racquetball and basketball. When bullies steal Chandler's hat, they confront them together. When the gang decides to play football on Thanksgiving, Ross picks Chandler as his first player - despite Rachel being his girlfriend at the time (\"The One With The Football\"). Ross sometimes describes Chandler as his best friend and vice versa. Chandler is the first person to know about Ross' secret love for Rachel. Not wanting either of them to get hurt, he convinces Ross to avoid telling her about his one-night stand with Chloe. When Rachel finds out anyway, Chandler looks very upset when he, Joey, Phoebe and Monica overhear from Monica's room the emotional argument that occurs between Ross and Rachel. Ross becomes Chandler's brother-in-law when he marries Monica at the end of Season 7. When Rachel and Ross remarry shortly after the series finale, she becomes his sister-in-law.\n",
      "\n",
      "For a time, Chandler shares an apartment with his other best friend Joey. Chandler and Joey's apartment becomes an important focal point for the series as one of the few meeting areas of the gang. The two have formed a close and enduring friendship, and they get into many humorous situations. Their adventures include:\n",
      "\n",
      "A famous running gag suggests them as an old married couple when they argue, with Chandler usually assuming the feminine role and Joey assuming the masculine role. In an episode where Joey's new roommate Janine is present, Joey takes the more woman-like role of their argument with comments such as, \"Why would you say that? It's just mean!\" and, \"It's not what you said. It was the way you said it,\" due to the fact that Janine's feminine qualities are rubbing off on Joey.\n",
      "\n",
      "The two start off on the wrong foot when Chandler is looking for a roommate and Joey comes to fill the slot, incorrectly assuming that Chandler is gay. Chandler chooses a fashion photographer with a porn star sister to be his roommate. But after Mr. Heckles tells the photographer that he is Chandler's new roommate, the photographer leaves and never moves in. This forces Chandler to give the keys to Joey, and they find out they have a lot in common: their fondness for sports and beer. Joey also introduces him to watching the women of Baywatch, especially Yasmine Bleeth.\n",
      "\n",
      "Chandler often supports Joey throughout the show, paying for expenses such as rent and bills; all of Joey's headshots; several acting classes; and most of the food. In an alternate reality of, \"The One That Could Have Been\", these roles are reversed as Chandler struggles with finances while Joey rakes in the money. At one point, Joey helps out Chandler by allowing Chandler to be his assistant.\n",
      "\n",
      "The two \"break up\" temporarily after Joey finds success as Dr. Drake Ramoray on the daytime soap opera Days Of Our Lives, which inspires Joey to move out temporarily (from \"The One Where Joey Moves Out\" to \"The One Where Eddie Won't Go\"). When Dr. Ramoray is killed off and Chandler becomes freaked out by his new schizophrenic roommate Eddie, the two move back in together.\n",
      "\n",
      "When Chandler moves in with Monica, he and Joey remain close as neighbors. In the final episode, Monica destroys the Foosball table in order to save Chick Jr. and Duck Jr., before she and Chandler move to Westchester. Despite no longer living in the same apartment block, Chandler and Monica make it known that their new home will have a specially designated \"Joey room\" above the garage.\n",
      "\n",
      "Chandler often refers to Joey as a family member. Although he thinks the relationship is brotherly, he does make references to Joey as a kid, stating to Ross in \"The One With Rachel's Other Sister\" that if he can't have Emma when Ross, Rachel, and Monica die, then Ross can't have Joey in the event of Chandler's death. He denies Joey to Ross because Ross denies him of Emma in the case of Ross', Rachel's and Monica's deaths. He later changes his mind. This does not stop him from pointing out his flaws, namely that he, \"eats five times a day and shoves pennies up his nose.\" Throughout the entire show, along with always being fun and spontaneous, Joey and Chandler have always had an intimate, caring yet completely platonic relationship, from Season 1 where Chandler was giving Joey a pep talk when Joey is wondering if he will ever find somebody and how he looks at his parents failed marriage and is scared and Chandler assures him that he  will find someone, and that he is not his father. Another sweet time between Joey and Chandler is them  both missing each other when they temporarily split up being roommates in Season 4, and Chandler giving Joey a chick and a duck that he gave to Monica and Chandler as a wedding gift in the finale in Season 10, and many more instances in between. \n",
      "\n",
      "Prior to his relationship with Monica, Chandler has an on-again, off-again relationship with Janice, who becomes a constant recurring fixture in his life. With her big hair, her nasal voice and laugh, and her tendency to say \"Oh ... my ... God!\" (with noticeable pauses in-between each word and hands flapping in sync) in every conversation. As notified before, Janice has an extremely annoying laugh. Chandler spends most of his time trying to break up with Janice. After breaking up with her in the season 1 episode \"The One With The East German Laundry Detergent\", Chandler finds himself involved with Janice twice more that season and several more times throughout the show.\n",
      "\n",
      "There seems to be only one point in the entirety of the show where Chandler and Janice's relationship goes well, without him feeling the need to break up with her. During the season 2 finale, Chandler chats with a woman in an Internet chat room, who reveals to him that her husband (the Mattress King) is sleeping with his secretary. He agrees to meet up with her, only to find that the woman he has been chatting with is Janice. The finale ends with Chandler passionately kissing Janice. The relationship continues into season 3. Joey reveals his unyielding hatred for her, claiming that every time she laughs, he wants to, \"rip off my own arm so I have something to throw at her!\" He then makes an effort, for Chandler, to like Janice and be comfortable in her presence.\n",
      "\n",
      "At the end of \"The One With The Race Car Bed\", Joey and Monica enter the Mattress King's store and see Janice kissing her ex-husband in his office. In \"The One With The Giant Poking Device\", Joey tells Chandler about what Janice has done. Chandler confronts Janice, telling her that Joey saw her kissing her ex-husband. She replies with \"In the park?\" He is shocked by this, and he asks her if she is breaking up with him. When she replies no, he asks her if she is breaking up with ex-husband. She again replies no, and that she cannot decide between the two. Chandler eventually decides to back off, due to the fact that she has a child and that there may be a chance for them to work things out. He changes his mind at the last minute, saying that he, \"was babbling. Pick me!\" She decides that the right thing to do is to go back to her ex-husband.\n",
      "\n",
      "One of Chandler's final attempts to leave her once and for all involves him claiming he is moving to Yemen at the address 15 Yemen Road, Yemen, and then actually boarding a plane and flying to Yemen. It is not actually his plan to go all the way to Yemen. But Janice wants to see the plane take off as a final goodbye, making him actually take off.\n",
      "\n",
      "Janice later has a fling with Ross, who is horrified when he is accused by her of being too whiny. Ross is worried about telling Chandler this, but Chandler is amused. Then Ross gives a speech about who friends can't go out with, giving an example of \"other friends' relatives.\" Chandler, who is seeing Monica secretly at the time, says he is angry about it. He adds that Ross should remember that he forgave him and that he also gave him $27.\n",
      "\n",
      "Monica inadvertently invites Janice to dinner when she discovers that Monica and Chandler are engaged. This leads to Janice inviting herself to live with them. Monica informs Janice that Chandler still has feelings for her, in an attempt to force her to leave. Janice does so in surprise and wishes them a lifetime of happiness. This is tempered when she whispers to Chandler as she leaves, \"You call me when this goes in the pooper.\"\n",
      "\n",
      "A later appearance from Janice is at the birth of Ross and Rachel's baby when Janice announces to a surprised delivery room that the baby she is carrying is Chandler's. She cackles hysterically and confesses that it is a joke, pointing out that she and Chandler haven't slept together in years.\n",
      "\n",
      "In the final season, Janice plans to move in next door to Chandler and Monica in Westchester. In order to prevent this, Chandler suggests that they pick up where they left off because he never stopped loving her. Fearful that they might ruin their marriages, Janice removes her bid on the house. But she does kiss Chandler one last time.\n",
      "\n",
      "Janice has appeared in every season of Friends, except in season 6. In this season, only her voice is heard on a mixed tape that she made for Chandler while they were dating. She also appears in \"The One With Mac And C.H.E.E.S.E.\", a clip show that includes her interaction with Chandler in \"The One With The Candy Hearts\".\n",
      "\n",
      "Chandler is known for his wise-cracks and his sardonic attitude, which provides a defense mechanism. His most famous phrase is the rhetorical question and is used on the show as a source of humor many times.\n",
      "\n",
      "Some of the humor used by Chandler on the show includes him:\n",
      "\n",
      "His humorous conversations with Phoebe range from why Donald Duck wears a towel when getting out of the shower, to why there isn't a superhero called Goldman (inspired by Spider-Man). Often, when he and Ross are trying to pick up women, he is referred to as, \"The Funny One.\"\n",
      "\n",
      "Chandler claims he started using humor as a defense mechanism when his parents broke up, and he tends to make jokes when he's in an uncomfortable social situation. At one point, Phoebe's psychologist boyfriend Roger states that Chandler's behavior is textbook of someone who uses humor as a defense mechanism. His co-workers are so used to his sarcastic jokes that any serious comment he makes is thought to be another joke. At one point, the friends challenge him to avoid making fun of his friends for an entire week as his New Year's Resolution; this proves difficult when, among other things, Ross dates a woman named Elizabeth Hornswoggle. He eventually breaks down and sarcastically asks, \"What are you dating? A character from Fraggle Rock?\"\n",
      "\n",
      "One of Chandler's bosses in season 8 finds him extremely funny when talking seriously: once when asking him where to find good Internet porn, and then when Chandler suggests to his boss to shred the papers on his desk and not claim to have received them.\n",
      "\n",
      "Chandler becomes jealous of Monica's new Maître d', Jeffrey, because she claims that he is the funniest guy she's ever met and points out that although she finds Chandler to be hilarious, his humor tends to be more sarcastic than bits, impressions, and limericks. He tells Joey about the situation, and Joey replies with \"Being funny's your thing!\" to which Ross agrees later. He elaborates and says that if \"funny,\" is taken away from him, all that leaves Chandler with is, \"lame with women.\"\n",
      "\n",
      "Chandler often finds himself in difficult situations or making statements that make him sound homosexual, due to his father's influence. His friends and co-workers describe him as having a certain quality that makes people think he might be gay. He also often has long hugs with Joey. At one point, he entered a room full of his friends and asks, \"Well, don't we look nice all dressed up? ... It's stuff like that. Isn't it?\" Once when he enters the apartment with Joey and Ross, the girls ask the men who they'd rather be with if they had to date each other. While Joey and Ross refuse to answer, Chandler abruptly replies, \"Joey,\" then recoils in embarrassment when everybody looks at him in shock. When asking Rachel and Phoebe what qualities about him make people think he is gay Phoebe sarcastically tells him, \"You have homosexual hair\".\n",
      "\n",
      "Chandler has an ongoing bromance (a close but non-sexual relationship between two men) with Joey. Some examples of this are: in \"The One Where Joey Moves Out,\" Joey says he doesn't want to leave Chandler \"high and dry.\" Chandler responds by saying \"No, I've never been lower or wetter.\"\n",
      "\n",
      "In, \"The One With Joey's New Girlfriend,\" Chandler invites Joey's girlfriend to sit in the canoe with him. He asks her whether she would rather sit in the bow or the stern of the boat. She asks Chandler which he prefers, and he replies, \"I like it in the stern ... of the boat!\"\n",
      "\n",
      "When Phoebe wonders whether she should propose to Mike, Chandler says, \"If I were a guy ... Did I just say, 'if I were a guy' ?\"\n",
      "\n",
      "In \"The One With The Flashback\", when Chandler interviews Joey as a roommate after meeting for the first time, Joey tells him that he's, \"totally okay with the whole gay thing.\"\n",
      "\n",
      "The show's creators were actually considering making him homosexual at the beginning of the series but ultimately decided not to. The creators had Chandler revealed that he is, in fact, straight in \"The One Where Nana Dies Twice\" when a colleague of his at work wants to arrange a date with another man, thinking he is gay. He tells his friends about this, then realizes that they also - at one point - thought he was gay.\n",
      "\n",
      "After Chandler plays a prank on Ross by posting on their college website that Ross has sex with dinosaurs, Ross creates a page for Chandler. On the page, Ross claims that Chandler is, \"as gay as the day is long,\" and also supplies digitally edited images of Chandler making out with a policeman. Many of the alumni congratulate Chandler on revealing this fact. As a retort, Chandler posts on Ross' page that he has died.\n",
      "\n",
      "Another instance which insinuates Chandler's homosexuality is when Ross exposes Chandler's kiss with a man to Monica. Ross states, \"Now, Chandler isn't the type of guy who goes into a bar and makes out with girls,\" causing Monica to scream, Chandler replies, \"In my defense, it was very dark and he was a very pretty guy!\"\n",
      "\n",
      "Much of Chandler's sexual ambiguity stems from his childhood, as do other personality traits such as smoking and resorting to humor. On Thanksgiving when Chandler was nine, his father announced that he was a homosexual and that he was getting a divorce from his wife because he would, \"rather sleep with the houseboy than [her].\" The houseboy said, \"More turkey, Mr. Chandler?\" in a very feminine voice right after this announcement. As a result of this, Chandler hates Thanksgiving and refuses to eat any traditional Thanksgiving food.\n",
      "\n",
      "Chandler's father moved to Las Vegas, where he opened up an all-male burlesque called Viva Las Gay-gas. The burlesque features such musical numbers as It's Raining Men, where he works as a cross-dresser named Helena Handbasket. Chandler tells Monica that when he was growing up, he played the dancer on the far left.\n",
      "\n",
      "Further amusement emerges when Chandler listens to a self-help hypnosis tape designed to prevent him from smoking. The tape is designed for females, and Chandler comes under the suggestion of being a \"strong, successful, confident woman.\" This manifests itself in Chandler applying Chap Stick like a woman applying lipstick and blotting with a tissue and emerging from the shower with a towel around his chest and a turban on his head. He also tells Rachel that she is wearing a \"stunning blouse.\" Joey overhears the tape and tampers with it, recording a message within it suggesting that Chandler should make him, \"a cheese sandwich every day,\" and buy him, \"hundreds of dollars worth of pants.\"\n",
      "\n",
      "When the series begins, Chandler works as a Data Processor. This is a job which he thoroughly loathes, and tries to quit early in season 1 (\"The One With The Stoned Guy\"). His boss offers a promotion and more and more money to lure him back. According to the nameplate on his door (seen in \"The One With The Ick Factor\") he has become Processing Supervisor. Although never explicitly stated, exterior transition shots show that Chandler's office is in the Solow Building.[1]\n",
      "\n",
      "It remains a running joke through most of the seasons that no one quite knows what he does.\n",
      "\n",
      "For a time, Chandler is unable to simply quit his job as it is his nature to avoid ending anything forcefully. This leads to an awkward moment where he dozes off during a crucial meeting and unintentionally agrees to run a new branch of the company in Tulsa, Oklahoma. Although he is able to work out a schedule that allows him to spend a few days each week in New York with Monica when she gets a new job at a restaurant in the city, when his new job forces him to work on Christmas Day, Chandler quits his job so he can fly home to be with Monica (\"The One With Christmas In Tulsa\").\n",
      "\n",
      "Monica helps Chandler secure a job in advertising. Much to Chandler's dismay, the job is as an unpaid intern. He soon secures a full-time paying job in the business as a junior copywriter where the internship was originally just for three assistants, as the company felt that Chandler was the strongest candidate in the program but was too experienced and mature to be just an assistant.\n",
      "\n",
      "In an alternate reality storyline during the show (\"The One That Could Have Been\"), Chandler has the guts to quit his job and works as a freelance writer, specializing in comics.\n",
      "\n",
      "Chandler's birthday is most likely in early April. In the episode where a month-early surprise party for Rachel is thrown, Rachel says that Chandler's birthday is before hers. Therefore, his birthday would have to be after or on Rachel's party day (April 8) and before Rachel's birthday (May 5). In \"The One With Unagi\", an episode that takes place on February 24, Monica says that Chandler's birthday is in a month and a half. A month and a half from February 24 is early April. This would make him an Aries. His parents announced their divorce in 1978, Chandler stated that he was 9, which means he was born in 1969. However, it's possible that he was ten at the time, and forgot that and told the story with him being 9.\n",
      "\n",
      "Chandler's age should be like this throughout the series; 1 (26-27), 2 (27-28), 3 (28-29), 4 (29-30), 5 (30-31), 6 (31-32), 7 (32-33), 8 (33-34), 9 (34-35), 10 (35-36).\n",
      "\n"
     ]
    }
   ],
   "source": [
    "if response.status_code == 200:\n",
    "# Parse the HTML content of the page\n",
    "    soup = BeautifulSoup(response.text, 'lxml')  # Use 'lxml' or 'html5lib' as per your preference\n",
    "\n",
    "    #Extracting paragraph\n",
    "    paragraphs = soup.find_all('p')\n",
    "    for paragraph in paragraphs:\n",
    "        print(paragraph.text)\n",
    "else:\n",
    "    print(f\"Failed to retrieve the page. Status code: {response.status_code}\")    "
   ]
  },
  {
   "cell_type": "code",
   "execution_count": 151,
   "metadata": {},
   "outputs": [
    {
     "name": "stderr",
     "output_type": "stream",
     "text": [
      "[nltk_data] Downloading package punkt to /Users/kirti/nltk_data...\n",
      "[nltk_data]   Package punkt is already up-to-date!\n"
     ]
    },
    {
     "data": {
      "text/plain": [
       "True"
      ]
     },
     "execution_count": 151,
     "metadata": {},
     "output_type": "execute_result"
    }
   ],
   "source": [
    "import nltk\n",
    "\n",
    "# Download the nltk punkt data for sentence tokenization\n",
    "nltk.download('punkt')"
   ]
  },
  {
   "cell_type": "code",
   "execution_count": 152,
   "metadata": {},
   "outputs": [],
   "source": [
    "sentences = []\n",
    "for paragraph in paragraphs:\n",
    " sentences.extend(nltk.sent_tokenize(paragraph.text))"
   ]
  },
  {
   "cell_type": "code",
   "execution_count": 153,
   "metadata": {},
   "outputs": [],
   "source": [
    "import re"
   ]
  },
  {
   "cell_type": "code",
   "execution_count": 154,
   "metadata": {},
   "outputs": [],
   "source": [
    "cleaned_sentences = [re.sub(r'\\[.*?\\]', '', sentence) for sentence in sentences]"
   ]
  },
  {
   "cell_type": "code",
   "execution_count": 155,
   "metadata": {},
   "outputs": [],
   "source": [
    "import pandas as pd\n",
    "import numpy as np"
   ]
  },
  {
   "cell_type": "code",
   "execution_count": 156,
   "metadata": {},
   "outputs": [],
   "source": [
    "#Create a DataFrame\n",
    "data = {'Sentences': cleaned_sentences}\n",
    "df = pd.DataFrame(data)\n",
    "\n",
    "# Save DataFrame to a CSV file\n",
    "df.to_csv('sentences.csv', index=False)"
   ]
  },
  {
   "cell_type": "code",
   "execution_count": 157,
   "metadata": {},
   "outputs": [
    {
     "data": {
      "text/html": [
       "<div>\n",
       "<style scoped>\n",
       "    .dataframe tbody tr th:only-of-type {\n",
       "        vertical-align: middle;\n",
       "    }\n",
       "\n",
       "    .dataframe tbody tr th {\n",
       "        vertical-align: top;\n",
       "    }\n",
       "\n",
       "    .dataframe thead th {\n",
       "        text-align: right;\n",
       "    }\n",
       "</style>\n",
       "<table border=\"1\" class=\"dataframe\">\n",
       "  <thead>\n",
       "    <tr style=\"text-align: right;\">\n",
       "      <th></th>\n",
       "      <th>Sentences</th>\n",
       "    </tr>\n",
       "  </thead>\n",
       "  <tbody>\n",
       "    <tr>\n",
       "      <td>0</td>\n",
       "      <td>\\nCharacter\\nChandler Bing\\n\\n\\n\\n\\n\\n\\nName\\n...</td>\n",
       "    </tr>\n",
       "    <tr>\n",
       "      <td>1</td>\n",
       "      <td>Sensitivity (by Monica in \"The One With Phoebe...</td>\n",
       "    </tr>\n",
       "    <tr>\n",
       "      <td>2</td>\n",
       "      <td>)Unnamed high school (formerly/graduated)\\n\\n\\...</td>\n",
       "    </tr>\n",
       "    <tr>\n",
       "      <td>3</td>\n",
       "      <td>Unnamed high school (formerly/graduated)</td>\n",
       "    </tr>\n",
       "    <tr>\n",
       "      <td>4</td>\n",
       "      <td>—Chandler after being asked for advice.</td>\n",
       "    </tr>\n",
       "  </tbody>\n",
       "</table>\n",
       "</div>"
      ],
      "text/plain": [
       "                                           Sentences\n",
       "0  \\nCharacter\\nChandler Bing\\n\\n\\n\\n\\n\\n\\nName\\n...\n",
       "1  Sensitivity (by Monica in \"The One With Phoebe...\n",
       "2  )Unnamed high school (formerly/graduated)\\n\\n\\...\n",
       "3           Unnamed high school (formerly/graduated)\n",
       "4            —Chandler after being asked for advice."
      ]
     },
     "execution_count": 157,
     "metadata": {},
     "output_type": "execute_result"
    }
   ],
   "source": [
    "df.head()"
   ]
  },
  {
   "cell_type": "code",
   "execution_count": 158,
   "metadata": {},
   "outputs": [
    {
     "data": {
      "text/plain": [
       "Sentences    0\n",
       "dtype: int64"
      ]
     },
     "execution_count": 158,
     "metadata": {},
     "output_type": "execute_result"
    }
   ],
   "source": [
    "df.isnull().sum()"
   ]
  },
  {
   "cell_type": "code",
   "execution_count": 159,
   "metadata": {},
   "outputs": [],
   "source": [
    "cleaned_df = df.dropna(subset=df.columns, how='all')"
   ]
  },
  {
   "cell_type": "code",
   "execution_count": 160,
   "metadata": {},
   "outputs": [
    {
     "data": {
      "text/plain": [
       "Sentences    0\n",
       "dtype: int64"
      ]
     },
     "execution_count": 160,
     "metadata": {},
     "output_type": "execute_result"
    }
   ],
   "source": [
    "cleaned_df.isnull().sum()"
   ]
  },
  {
   "cell_type": "code",
   "execution_count": 161,
   "metadata": {},
   "outputs": [
    {
     "data": {
      "text/html": [
       "<div>\n",
       "<style scoped>\n",
       "    .dataframe tbody tr th:only-of-type {\n",
       "        vertical-align: middle;\n",
       "    }\n",
       "\n",
       "    .dataframe tbody tr th {\n",
       "        vertical-align: top;\n",
       "    }\n",
       "\n",
       "    .dataframe thead th {\n",
       "        text-align: right;\n",
       "    }\n",
       "</style>\n",
       "<table border=\"1\" class=\"dataframe\">\n",
       "  <thead>\n",
       "    <tr style=\"text-align: right;\">\n",
       "      <th></th>\n",
       "      <th>Sentences</th>\n",
       "    </tr>\n",
       "  </thead>\n",
       "  <tbody>\n",
       "    <tr>\n",
       "      <td>0</td>\n",
       "      <td>\\nCharacter\\nChandler Bing\\n\\n\\n\\n\\n\\n\\nName\\n...</td>\n",
       "    </tr>\n",
       "    <tr>\n",
       "      <td>1</td>\n",
       "      <td>Sensitivity (by Monica in \"The One With Phoebe...</td>\n",
       "    </tr>\n",
       "    <tr>\n",
       "      <td>2</td>\n",
       "      <td>)Unnamed high school (formerly/graduated)\\n\\n\\...</td>\n",
       "    </tr>\n",
       "    <tr>\n",
       "      <td>3</td>\n",
       "      <td>Unnamed high school (formerly/graduated)</td>\n",
       "    </tr>\n",
       "    <tr>\n",
       "      <td>4</td>\n",
       "      <td>—Chandler after being asked for advice.</td>\n",
       "    </tr>\n",
       "  </tbody>\n",
       "</table>\n",
       "</div>"
      ],
      "text/plain": [
       "                                           Sentences\n",
       "0  \\nCharacter\\nChandler Bing\\n\\n\\n\\n\\n\\n\\nName\\n...\n",
       "1  Sensitivity (by Monica in \"The One With Phoebe...\n",
       "2  )Unnamed high school (formerly/graduated)\\n\\n\\...\n",
       "3           Unnamed high school (formerly/graduated)\n",
       "4            —Chandler after being asked for advice."
      ]
     },
     "execution_count": 161,
     "metadata": {},
     "output_type": "execute_result"
    }
   ],
   "source": [
    "cleaned_df.head()"
   ]
  },
  {
   "cell_type": "code",
   "execution_count": 162,
   "metadata": {},
   "outputs": [
    {
     "name": "stderr",
     "output_type": "stream",
     "text": [
      "[nltk_data] Downloading package vader_lexicon to\n",
      "[nltk_data]     /Users/kirti/nltk_data...\n",
      "[nltk_data]   Package vader_lexicon is already up-to-date!\n"
     ]
    }
   ],
   "source": [
    "nltk.download('vader_lexicon')\n",
    "from nltk.sentiment import SentimentIntensityAnalyzer\n",
    "\n",
    "# Assuming 'snape_life' is your DataFrame\n",
    "cleaned_df['Sentences'] = cleaned_df['Sentences'].fillna('')  # Replace NaN with an empty string\n",
    "\n",
    "# Initialize the Sentiment Intensity Analyzer\n",
    "sia = SentimentIntensityAnalyzer()\n",
    "\n",
    "# Create a new column 'Sentiment' with sentiment scores\n",
    "cleaned_df['Sentiment'] = cleaned_df['Sentences'].apply(lambda x: sia.polarity_scores(x)['compound'])"
   ]
  },
  {
   "cell_type": "code",
   "execution_count": 163,
   "metadata": {},
   "outputs": [],
   "source": [
    "threshold_angry = -0.7\n",
    "threshold_anguish = -0.5\n",
    "threshold_contempt = -0.05\n",
    "threshold_worry = 0\n",
    "threshold_ambiguity = 0.1\n",
    "threshold_affection = 0.2  \n",
    "threshold_sacrifice = 0.3\n",
    "threshold_protectiveness = 0.5\n",
    "threshold_sarcasm = 0.6\n",
    "\n",
    "# Create conditions and corresponding labels\n",
    "conditions = [\n",
    "    cleaned_df['Sentiment'] <= threshold_angry,\n",
    "    (cleaned_df['Sentiment'] > threshold_angry) & (cleaned_df['Sentiment'] <= threshold_anguish),\n",
    "    (cleaned_df['Sentiment'] > threshold_anguish) & (cleaned_df['Sentiment'] <= threshold_contempt),\n",
    "    (cleaned_df['Sentiment'] > threshold_contempt) & (cleaned_df['Sentiment'] <= threshold_worry),\n",
    "    (cleaned_df['Sentiment'] > threshold_worry) & (cleaned_df['Sentiment'] <= threshold_ambiguity),\n",
    "    (cleaned_df['Sentiment'] > threshold_ambiguity) & (cleaned_df['Sentiment'] <= threshold_affection),\n",
    "    (cleaned_df['Sentiment'] > threshold_affection) & (cleaned_df['Sentiment'] <= threshold_sacrifice),\n",
    "    (cleaned_df['Sentiment'] > threshold_sacrifice) & (cleaned_df['Sentiment'] <= threshold_protectiveness),\n",
    "    (cleaned_df['Sentiment'] > threshold_protectiveness) & (cleaned_df['Sentiment'] <= threshold_sarcasm),\n",
    "    cleaned_df['Sentiment'] > threshold_sarcasm\n",
    "]\n",
    "\n",
    "labels = ['angry', 'anguish', 'contempt', 'worry','ambiguity', 'affection', 'sacrifice', 'protectiveness', 'sarcasm', 'unknown']\n",
    "\n",
    "# Create a new column with the sentiment categories\n",
    "cleaned_df['Emotion_Category'] = np.select(conditions, labels, default='unknown')"
   ]
  },
  {
   "cell_type": "code",
   "execution_count": 164,
   "metadata": {},
   "outputs": [
    {
     "data": {
      "text/plain": [
       "worry             27.637131\n",
       "unknown           19.198312\n",
       "contempt          14.767932\n",
       "protectiveness    12.658228\n",
       "sacrifice          6.329114\n",
       "anguish            5.907173\n",
       "sarcasm            5.485232\n",
       "angry              3.375527\n",
       "ambiguity          2.320675\n",
       "affection          2.320675\n",
       "Name: Emotion_Category, dtype: float64"
      ]
     },
     "execution_count": 164,
     "metadata": {},
     "output_type": "execute_result"
    }
   ],
   "source": [
    "emotion_percentages = cleaned_df['Emotion_Category'].value_counts(normalize=True) * 100\n",
    "emotion_percentages"
   ]
  },
  {
   "cell_type": "code",
   "execution_count": 165,
   "metadata": {},
   "outputs": [
    {
     "name": "stderr",
     "output_type": "stream",
     "text": [
      "[nltk_data] Downloading package stopwords to /Users/kirti/nltk_data...\n",
      "[nltk_data]   Package stopwords is already up-to-date!\n",
      "[nltk_data] Downloading package wordnet to /Users/kirti/nltk_data...\n",
      "[nltk_data]   Package wordnet is already up-to-date!\n"
     ]
    },
    {
     "data": {
      "text/plain": [
       "True"
      ]
     },
     "execution_count": 165,
     "metadata": {},
     "output_type": "execute_result"
    }
   ],
   "source": [
    "from nltk import FreqDist\n",
    "from nltk.tokenize import word_tokenize\n",
    "from nltk.corpus import stopwords\n",
    "from nltk.stem import WordNetLemmatizer\n",
    "\n",
    "nltk.download('stopwords')\n",
    "nltk.download('wordnet')"
   ]
  },
  {
   "cell_type": "code",
   "execution_count": 166,
   "metadata": {},
   "outputs": [
    {
     "name": "stdout",
     "output_type": "stream",
     "text": [
      "The word 'chandler' appears 258 times.\n",
      "The word 'monica' appears 145 times.\n",
      "The word 'joey' appears 109 times.\n",
      "The word 'ross' appears 96 times.\n",
      "The word 'one' appears 85 times.\n"
     ]
    }
   ],
   "source": [
    "all_text = ' '.join(cleaned_df['Sentences'].astype(str))\n",
    "\n",
    "# Tokenize the text into words\n",
    "words = word_tokenize(all_text)\n",
    "\n",
    "# Remove stop words and punctuation\n",
    "stop_words = set(stopwords.words('english'))\n",
    "filtered_words = [word.lower() for word in words if word.isalnum() and word.lower() not in stop_words]\n",
    "\n",
    "# Lemmatize the words\n",
    "lemmatizer = WordNetLemmatizer()\n",
    "lemmatized_words = [lemmatizer.lemmatize(word) for word in filtered_words]\n",
    "\n",
    "# Calculate the frequency distribution of words\n",
    "freq_dist = FreqDist(lemmatized_words)\n",
    "\n",
    "# Find the top 5 most common words\n",
    "top_words = freq_dist.most_common(5)\n",
    "\n",
    "# Print the top 5 most common words and their frequencies\n",
    "for word, frequency in top_words:\n",
    "    print(f\"The word '{word}' appears {frequency} times.\")"
   ]
  },
  {
   "cell_type": "code",
   "execution_count": null,
   "metadata": {},
   "outputs": [],
   "source": []
  }
 ],
 "metadata": {
  "kernelspec": {
   "display_name": "Python 3",
   "language": "python",
   "name": "python3"
  },
  "language_info": {
   "codemirror_mode": {
    "name": "ipython",
    "version": 3
   },
   "file_extension": ".py",
   "mimetype": "text/x-python",
   "name": "python",
   "nbconvert_exporter": "python",
   "pygments_lexer": "ipython3",
   "version": "3.7.4"
  }
 },
 "nbformat": 4,
 "nbformat_minor": 2
}
